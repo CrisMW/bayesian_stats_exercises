{
 "cells": [
  {
   "cell_type": "markdown",
   "metadata": {},
   "source": [
    "# Exercises for <i>Bayesian Statistics The Fun Way</i>"
   ]
  },
  {
   "cell_type": "markdown",
   "metadata": {},
   "source": [
    "## Chapter 12: Modelling snowfall measurements"
   ]
  },
  {
   "cell_type": "code",
   "execution_count": 2,
   "metadata": {},
   "outputs": [
    {
     "name": "stdout",
     "output_type": "stream",
     "text": [
      "8.190000000000001 1.076522178127325\n"
     ]
    }
   ],
   "source": [
    "# Determining distribution parameters (this problem calls for a normal distribution)\n",
    "\n",
    "import scipy.stats as ss\n",
    "import numpy as np\n",
    "import matplotlib.pyplot as plt\n",
    "\n",
    "measurements = [7.8,9.4,10,7.9,9.4,7,7,7.1,8.9,7.4]\n",
    "x_bar = np.mean(measurements)\n",
    "stdev = np.std(measurements)\n",
    "\n",
    "print(x_bar, stdev)"
   ]
  },
  {
   "cell_type": "code",
   "execution_count": 3,
   "metadata": {},
   "outputs": [
    {
     "data": {
      "text/plain": [
       "Text(0.5, 0, 'snowfall (in)')"
      ]
     },
     "execution_count": 3,
     "metadata": {},
     "output_type": "execute_result"
    },
    {
     "data": {
      "image/png": "[encoded data removed]",
      "text/plain": [
       "<Figure size 432x288 with 1 Axes>"
      ]
     },
     "metadata": {
      "needs_background": "light"
     },
     "output_type": "display_data"
    }
   ],
   "source": [
    "# Plotting probability density function (pdf) and cumulative density function (cdf)\n",
    "\n",
    "x = np.linspace(4, 12, 5000)\n",
    "\n",
    "y_pdf = ss.norm.pdf(x, x_bar, stdev) # the normal pdf\n",
    "y_cdf = ss.norm.cdf(x, x_bar, stdev) # the normal cdf\n",
    "\n",
    "plt.plot(x, y_pdf, label='pdf')\n",
    "plt.plot(x, y_cdf, label='cdf')\n",
    "plt.legend()\n",
    "plt.ylabel('density')\n",
    "plt.xlabel('snowfall (in)')"
   ]
  },
  {
   "cell_type": "markdown",
   "metadata": {},
   "source": [
    "## Chapter 13: Parameter estimation\n",
    "\n",
    "A child is going door-to-door selling candy bars. So far, 10 out of 30 households have bought some. They're planning on visiting 40 more houses - what is the 95% confidence interval for their sales?"
   ]
  },
  {
   "cell_type": "code",
   "execution_count": 1,
   "metadata": {},
   "outputs": [
    {
     "name": "stdout",
     "output_type": "stream",
     "text": [
      "0.17938364923511183 0.50832335380999\n"
     ]
    }
   ],
   "source": [
    "# This problem calls for a Beta distribution, which is defined by \n",
    "# succeses (alpha) and failures (beta),\n",
    "# and which models the probability of success. \n",
    "# Defining parameters of distribution\n",
    "\n",
    "import scipy.stats as ss\n",
    "alpha = 10\n",
    "beta = 20\n",
    "\n",
    "# Calculating bounds of 95% confidence interval for the proability of success,\n",
    "# i.e. for the probability of selling a candy bar.\n",
    "\n",
    "lower_bound_rate = ss.beta.ppf(0.025, alpha, beta)\n",
    "lower_bound_rate\n",
    "\n",
    "upper_bound_rate = ss.beta.ppf(0.975, alpha, beta)\n",
    "upper_bound_rate\n",
    "\n",
    "print(lower_bound_rate, upper_bound_rate)"
   ]
  },
  {
   "cell_type": "code",
   "execution_count": 2,
   "metadata": {},
   "outputs": [
    {
     "name": "stdout",
     "output_type": "stream",
     "text": [
      "7.0 20.0\n"
     ]
    }
   ],
   "source": [
    "# Calculates 95% confidence interval in terms of\n",
    "# candy bars sold from the probabilities.\n",
    "\n",
    "k_future = 40\n",
    "lower, upper = (round(lower_bound_rate*k_future,0), round(upper_bound_rate*k_future,0))\n",
    "\n",
    "print(lower, upper)"
   ]
  },
  {
   "cell_type": "markdown",
   "metadata": {},
   "source": [
    "Based on the data we have, we can be 95% certain that their true conversion rate is between ~18% and ~51%.<br>\n",
    "Consequently, we can be 95% confident that they will sell between 7 and 20 candy bars visiting the next 40 houses. "
   ]
  },
  {
   "cell_type": "markdown",
   "metadata": {},
   "source": [
    "## Chapter 15: Building a simple bayesian A/B test using beta distributions and Monte Carlo simulations"
   ]
  },
  {
   "cell_type": "markdown",
   "metadata": {},
   "source": [
    "We are comparing variants A and B of a newsletter, the goal being to determine which one has a higher click through rate. Currently, 150 of each have been sent out, and the results are as follows:\n",
    "- Variant A: 36 clicked, 114 not clicked \n",
    "- Variant B: 50 clicked, 100 not clicked\n",
    "\n",
    "(Both seems pretty high, but let's see if we can find a meaningful difference)"
   ]
  },
  {
   "cell_type": "markdown",
   "metadata": {},
   "source": [
    "### Q1.\n",
    "Our boss strongly believes that there will be no difference, and that both variants will be close to our historical average of 30%. <br> How can we integrate this in our model?"
   ]
  },
  {
   "cell_type": "code",
   "execution_count": 1,
   "metadata": {
    "scrolled": true
   },
   "outputs": [
    {
     "name": "stdout",
     "output_type": "stream",
     "text": [
      "(336, 814) (350, 800)\n"
     ]
    }
   ],
   "source": [
    "# Problem calls for a Beta distribution. \n",
    "# The expectation of no difference should be incorporated\n",
    "# by making the prior a strong one.\n",
    "\n",
    "# Defining prior, likelihoods for variants A/B,\n",
    "# and posterior Beta distributions.\n",
    "import scipy.stats as ss\n",
    "import numpy as np\n",
    "\n",
    "strong_prior = (300,700)\n",
    "\n",
    "likelihood_a = (36,114)\n",
    "likelihood_b = (50,100)\n",
    "\n",
    "posterior_a = (strong_prior[0] + likelihood_a[0],strong_prior[1] + likelihood_a[1])\n",
    "posterior_b = (strong_prior[0] + likelihood_b[0],strong_prior[1] + likelihood_b[1])\n",
    "\n",
    "print(posterior_a, posterior_b)"
   ]
  },
  {
   "cell_type": "markdown",
   "metadata": {},
   "source": [
    "Even with a strong prior, variant B seems to be slightly ahead. Let's quantify this using Monte Carlo simulations."
   ]
  },
  {
   "cell_type": "code",
   "execution_count": 2,
   "metadata": {},
   "outputs": [
    {
     "name": "stdout",
     "output_type": "stream",
     "text": [
      "B ahead: 73.893 %\n",
      "Mean conversion for B comapred to A: 1.0439241944396096\n"
     ]
    }
   ],
   "source": [
    "# Picking n random samples from each posterior Beta distribution.\n",
    "# These represent possible click through rates for the variants.\n",
    "\n",
    "n = 100000\n",
    "\n",
    "a_samples = np.random.beta(posterior_a[0], posterior_a[1], n)\n",
    "b_samples = np.random.beta(posterior_b[0], posterior_b[1], n)\n",
    "\n",
    "# Comparing the % of n samples, in which variant B\n",
    "# has a higher click through rate than variant A.\n",
    "\n",
    "b_greater = a_samples < b_samples\n",
    "b_greater_proportion = b_greater.sum() / len(b_greater)\n",
    "print('B ahead:', b_greater_proportion*100, '%')\n",
    "\n",
    "# Quantifying by how much the click through rate of variant B\n",
    "# is greater than that of variant A, on average. \n",
    "\n",
    "b_ratios = b_samples / a_samples\n",
    "b_ratios_mean = np.mean(b_ratios)\n",
    "print('Mean conversion for B comapred to A:', b_ratios_mean)"
   ]
  },
  {
   "cell_type": "markdown",
   "metadata": {},
   "source": [
    "Variant B is ahead of A in 73% of random samples. This should <b>not</b> be enough to convince our boss that variant B has a higher click through rate. <br>\n",
    "Also, variant B's click through rate is only ~4% higher than that of variant A. This would mean that instead of achieving 30% clicl through, it achieves 31.2%."
   ]
  },
  {
   "cell_type": "markdown",
   "metadata": {},
   "source": [
    "### Q2.\n",
    "A senior colleague tells us to expect a click through rate of 30% for variant A, and one of 20% for variant B.\n",
    "How can we model this?"
   ]
  },
  {
   "cell_type": "code",
   "execution_count": 3,
   "metadata": {},
   "outputs": [
    {
     "name": "stdout",
     "output_type": "stream",
     "text": [
      "(66, 184) (70, 180)\n"
     ]
    }
   ],
   "source": [
    "# By defining SEPARATE, moderate priors for variant A and variant B. \n",
    "\n",
    "prior_a = (30,70)\n",
    "prior_b = (20,80)\n",
    "\n",
    "# Defining prior, likelihoods for variants A/B,\n",
    "# and posterior Beta distributions.\n",
    "\n",
    "likelihood_a = (36,114)\n",
    "likelihood_b = (50,100)\n",
    "\n",
    "posterior_a = (prior_a[0] + likelihood_a[0], prior_a[1] + likelihood_a[1])\n",
    "posterior_b = (prior_b[0] + likelihood_b[0], prior_b[1] + likelihood_b[1])\n",
    "\n",
    "print(posterior_a, posterior_b)"
   ]
  },
  {
   "cell_type": "markdown",
   "metadata": {},
   "source": [
    "Given these priors, variant B is slightly ahead. Again, let's quantify."
   ]
  },
  {
   "cell_type": "code",
   "execution_count": 4,
   "metadata": {
    "scrolled": true
   },
   "outputs": [
    {
     "name": "stdout",
     "output_type": "stream",
     "text": [
      "65.59700000000001 %\n",
      "1.072257347651642\n"
     ]
    }
   ],
   "source": [
    "# Picking n random samples from each posterior Beta distribution.\n",
    "# These represent possible click through rates for the variants.\n",
    "n = 100000\n",
    "\n",
    "a_samples = np.random.beta(posterior_a[0], posterior_a[1], n)\n",
    "b_samples = np.random.beta(posterior_b[0], posterior_b[1], n)\n",
    "\n",
    "# Comparing the % of n samples, in which variant B\n",
    "# has a higher click through rate than variant A.\n",
    "\n",
    "b_greater = a_samples < b_samples\n",
    "b_greater_proportion = b_greater.sum() / len(b_greater)\n",
    "print(b_greater_proportion*100, '%')\n",
    "\n",
    "# Quantifying by how much the click through rate of variant B\n",
    "# is greater than that of variant A, on average. \n",
    "\n",
    "b_ratios = b_samples / a_samples\n",
    "b_ratios_mean = np.mean(b_ratios)\n",
    "print(b_ratios_mean)"
   ]
  },
  {
   "cell_type": "markdown",
   "metadata": {},
   "source": [
    "Variant B is ahead of A in 65% of random samples. This should <b>not</b> be enough to convince our colleague that variant B has a higher click through rate. <br>\n",
    "Variant B's click through rate is ~7% higher than that of variant A. This would mean that instead of achieving 30% click through, it achieves 32.1%. Again, not a huge difference."
   ]
  },
  {
   "cell_type": "markdown",
   "metadata": {},
   "source": [
    "### Q3 Bayesian Power Analysis\n",
    "\n",
    "Let's assume that the true click through rates are 30% for variant A and 30% for variant B. How many emails would we have to send out to convince our boss who hols this very strong prior belief? He should be convinved by variant B being superior to A in 95% of simulated cases."
   ]
  },
  {
   "cell_type": "code",
   "execution_count": 5,
   "metadata": {},
   "outputs": [
    {
     "name": "stdout",
     "output_type": "stream",
     "text": [
      "0.59093 100\n",
      "0.67398 200\n",
      "0.73981 300\n",
      "0.79722 400\n",
      "0.84238 500\n",
      "0.87757 600\n",
      "0.9092 700\n",
      "0.92959 800\n",
      "0.94658 900\n",
      "0.95948 1000\n"
     ]
    }
   ],
   "source": [
    "true_rate_a = 0.25\n",
    "true_rate_b = 0.3 \n",
    "sample_size = 0             # Initial sample size for iteration\n",
    "b_greater_proportion = 0    # Initial value to keep loop going\n",
    "\n",
    "# Gradually increasing sample sizes until b_greater_proportion > 0.95\n",
    "\n",
    "while b_greater_proportion < 0.95:\n",
    "    \n",
    "    # Calculating likelihoods \n",
    "    \n",
    "    sample_size += 100\n",
    "    var_a_alpha = sample_size * true_rate_a\n",
    "    var_a_beta = sample_size * (1 - true_rate_a)\n",
    "    var_b_alpha = sample_size * true_rate_b\n",
    "    var_b_beta = sample_size * (1 - true_rate_b)\n",
    "    \n",
    "    # Defining posteriors for variant A and variant B\n",
    "    \n",
    "    posterior_a = (var_a_alpha + strong_prior[0], var_a_beta + strong_prior[1])\n",
    "    posterior_b = (var_b_alpha + strong_prior[0], var_b_beta + strong_prior[1])\n",
    "    \n",
    "    # Monte Carlo simulation\n",
    "    size = 100000\n",
    "\n",
    "    a_samples = np.random.beta(posterior_a[0], posterior_a[1], size)\n",
    "    b_samples = np.random.beta(posterior_b[0], posterior_b[1], size)\n",
    "\n",
    "    b_greater = a_samples < b_samples\n",
    "    b_greater_proportion = b_greater.sum() / len(b_greater)\n",
    "    print(b_greater_proportion, sample_size)"
   ]
  },
  {
   "cell_type": "markdown",
   "metadata": {},
   "source": [
    "Based on these #, we would have to send out a thousand <i>of each variant</i> until our boss will be convinces.\n",
    "Let's calculate the same thing for a less sceptical person, who weakly believes in the 30% historical average seen at our company."
   ]
  },
  {
   "cell_type": "code",
   "execution_count": 6,
   "metadata": {},
   "outputs": [
    {
     "name": "stdout",
     "output_type": "stream",
     "text": [
      "0.77625 100\n",
      "0.86356 200\n",
      "0.91318 300\n",
      "0.94207 400\n",
      "0.96156 500\n"
     ]
    }
   ],
   "source": [
    "# Setting weak prior with average = 0.3\n",
    "\n",
    "weak_prior = (3,7)\n",
    "true_rate_a = 0.25\n",
    "true_rate_b = 0.3 \n",
    "sample_size = 0             # Initial sample size for iteration\n",
    "b_greater_proportion = 0    # Initial value to keep loop going\n",
    "\n",
    "# Gradually increasing sample sizes until b_greater_proportion > 0.95\n",
    "# remain uchanged.\n",
    "\n",
    "while b_greater_proportion < 0.95:\n",
    "    \n",
    "    # Calculating likelihoods \n",
    "    \n",
    "    sample_size += 100\n",
    "    var_a_alpha = sample_size * true_rate_a\n",
    "    var_a_beta = sample_size * (1 - true_rate_a)\n",
    "    var_b_alpha = sample_size * true_rate_b\n",
    "    var_b_beta = sample_size * (1 - true_rate_b)\n",
    "    \n",
    "    # Defining posterios for variant A and variant B\n",
    "    \n",
    "    posterior_a = (var_a_alpha + weak_prior[0], var_a_beta + weak_prior[1])\n",
    "    posterior_b = (var_b_alpha + weak_prior[0], var_b_beta + weak_prior[1])\n",
    "    \n",
    "    # Monte Carlo simulation\n",
    "    size = 100000\n",
    "\n",
    "    a_samples = np.random.beta(posterior_a[0], posterior_a[1], size)\n",
    "    b_samples = np.random.beta(posterior_b[0], posterior_b[1], size)\n",
    "\n",
    "    b_greater = a_samples < b_samples\n",
    "    b_greater_proportion = b_greater.sum() / len(b_greater)\n",
    "    print(b_greater_proportion, sample_size)"
   ]
  },
  {
   "cell_type": "markdown",
   "metadata": {},
   "source": [
    "A less skeptical individual might only take 1000 total emails (500/variant) to be convinced."
   ]
  },
  {
   "cell_type": "markdown",
   "metadata": {},
   "source": [
    "## Chaper 16: Bayes factor, prior odds ratio, posterior odds ratio\n",
    "### Q1: Testing a die\n",
    "<br>\n",
    "We have a bag with three dice, two of them are loaded such that probability of getting a six is 50%, i.e. P(6) = 0.5.<br>\n",
    "We test a random die and get 4 sixes and 6 non-sixes. How much more or less likely is this die likely to be the loaded die?<br>\n",
    "\n",
    "Let's start calculating the Bayes factor, i.e. the ratio of likelihoods."
   ]
  },
  {
   "cell_type": "code",
   "execution_count": 1,
   "metadata": {},
   "outputs": [
    {
     "name": "stdout",
     "output_type": "stream",
     "text": [
      "0.0009765625 0.0002584089326237532 3.7791359999999994\n"
     ]
    }
   ],
   "source": [
    "likelihood_loaded = 0.5**4  * 0.5**6\n",
    "likelihood_fair = (1/6)**4  * (5/6)**6\n",
    "\n",
    "bayes_factor = likelihood_loaded / likelihood_fair\n",
    "\n",
    "print(likelihood_loaded, likelihood_fair, bayes_factor)"
   ]
  },
  {
   "cell_type": "markdown",
   "metadata": {},
   "source": [
    "Based on the Bayes factor alone, we would say that die is almost 4x as likely to be loaded, than fair.<br>\n",
    "Let's now factor in out priors. We know that two out of the three dice are loaded. "
   ]
  },
  {
   "cell_type": "code",
   "execution_count": 2,
   "metadata": {},
   "outputs": [
    {
     "name": "stdout",
     "output_type": "stream",
     "text": [
      "7.558271999999999\n"
     ]
    }
   ],
   "source": [
    "prior_loaded = 2/3\n",
    "prior_fair = 1/3\n",
    "\n",
    "posterior_loaded = likelihood_loaded * prior_loaded\n",
    "posterior_fair = likelihood_fair * prior_fair\n",
    "\n",
    "posterior_odds = posterior_loaded / posterior_fair\n",
    "print(posterior_odds)"
   ]
  },
  {
   "cell_type": "markdown",
   "metadata": {},
   "source": [
    "It looks like the die is about 7 times more likely to be loaded than fair. More data will provide greater certainty. "
   ]
  },
  {
   "cell_type": "markdown",
   "metadata": {},
   "source": [
    "### Q2: Googling your symptoms"
   ]
  },
  {
   "cell_type": "markdown",
   "metadata": {},
   "source": [
    "We're sick and of course we're googling our symptoms. WebMD tells us that we could either have a simple infection or a rare tumour of the auditory nerve. <br> These are the incidence rates of the two diseases, and the incidence rates of our symotoms in people with these diseases:\n",
    "- Tumour: 11 per 1,000,000 people\n",
    "- Tumour - Hearing loss: 94 %, Tinnitus: 83 %, Vertigo: 49 %\n",
    "- Infection: 35 per 1,000,000 people\n",
    "- Infection - Hearing loss: 30 %, Tinnitus: 27 %, Vertigo: 98 %\n",
    "\n",
    "How much more or less likely are we to have the infection vs the tumour?<br>"
   ]
  },
  {
   "cell_type": "code",
   "execution_count": 3,
   "metadata": {},
   "outputs": [
    {
     "name": "stdout",
     "output_type": "stream",
     "text": [
      "0.3822979999999999 0.08232 0.21532940271725204\n"
     ]
    }
   ],
   "source": [
    "likelihood_tumour = 0.94 * 0.83 * 0.49\n",
    "likelihood_infection = 0.3 * 0.28 * 0.98\n",
    "bayes_factor = likelihood_infection / likelihood_tumour\n",
    "print(likelihood_tumour, likelihood_infection, bayes_factor)"
   ]
  },
  {
   "cell_type": "markdown",
   "metadata": {},
   "source": [
    "Bad news! Looks like the tumour is ~5 times more likely given the observed symptoms. Now, lets factor in the different incidence rates of the tumour and infections."
   ]
  },
  {
   "cell_type": "code",
   "execution_count": 4,
   "metadata": {},
   "outputs": [
    {
     "name": "stdout",
     "output_type": "stream",
     "text": [
      "4.205277999999999e-06 2.8812e-06 0.6851390086458019\n"
     ]
    }
   ],
   "source": [
    "prior_tumour = 11/1000000\n",
    "prior_infection = 35/1000000\n",
    "\n",
    "posterior_tumour = likelihood_tumour * prior_tumour\n",
    "posterior_infection = likelihood_infection * prior_infection\n",
    "\n",
    "posterior_odds = posterior_infection / posterior_tumour\n",
    "\n",
    "print(posterior_tumour, posterior_infection, posterior_odds)"
   ]
  },
  {
   "cell_type": "markdown",
   "metadata": {},
   "source": [
    "Good news first: The probability of us having either disease is very low, around 1 in 2,500,000 to 3,000,000.<br>\n",
    "The bad news is that the tumour is about one and half times as likely as the simple infection.<br>\n",
    "Let's hope our doctor orders an MRI!"
   ]
  },
  {
   "cell_type": "markdown",
   "metadata": {},
   "source": [
    "## Chapter 19: From Hypothesis Testing to Parameter Estimation"
   ]
  },
  {
   "cell_type": "markdown",
   "metadata": {},
   "source": [
    "### Creating a probability distribution with a non-beta distributed, custom prior distribution\n",
    "### (Recreation of the example problem in Python)\n",
    "While playing a game with independent, mutually exclusive outcomes a 100 times, we observe 24 successes and 76 failures. The postulated success rate (<i>p</i>) is 50%, so H<sub>0</sub>: <i>p</i>=0.5. We would like to model the probability for a range of alternative hypotheses for <i>p</i>.<br>\n",
    "Normally, we would just use a Beta distribution, but we have some important information to consider: The true success rate is rarely between 20-30%. Thus, we would like to incorporate prior odds of 1:1000 for values between 0.2-0.3. For other values, we don't have strong prior evidence either way, so we will incorporate priors odds of 1:1. Clearly, this is a non-beta distributed prior distibution, so we will have to build our model from the Bayes factor up."
   ]
  },
  {
   "cell_type": "code",
   "execution_count": 1,
   "metadata": {},
   "outputs": [],
   "source": [
    "import scipy.stats as ss\n",
    "import numpy as np\n",
    "import matplotlib.pyplot as plt\n",
    "%matplotlib inline"
   ]
  },
  {
   "cell_type": "code",
   "execution_count": 2,
   "metadata": {},
   "outputs": [
    {
     "data": {
      "image/png": "[encoded data removed]",
      "text/plain": [
       "<Figure size 432x288 with 1 Axes>"
      ]
     },
     "metadata": {
      "needs_background": "light"
     },
     "output_type": "display_data"
    }
   ],
   "source": [
    "alpha = 24\n",
    "beta = 76\n",
    "\n",
    "h_naught = 0.5\n",
    "alt_hypotheses = np.arange(0,1.01,0.01)\n",
    "\n",
    "def bayes_factor(h_top,h_bottom,successes,failures):\n",
    "    likelihood_top = h_top**successes * (1-h_top)**failures\n",
    "    likelihood_bottom = h_bottom**successes * (1-h_bottom)**failures\n",
    "    return likelihood_top / likelihood_bottom\n",
    "\n",
    "bfs = bayes_factor(alt_hypotheses, h_naught, alpha, beta)\n",
    "\n",
    "# Plotting Bayes factors\n",
    "plt.plot(alt_hypotheses,bfs)\n",
    "plt.title('Bayes factors for alternative hypotheses for p, vs p=.5')\n",
    "plt.xlabel('Hypothesis for p')\n",
    "plt.ylabel('Bayes factor')\n",
    "plt.show()"
   ]
  },
  {
   "cell_type": "code",
   "execution_count": 3,
   "metadata": {},
   "outputs": [
    {
     "data": {
      "text/plain": [
       "Text(0, 0.5, 'Prior odds')"
      ]
     },
     "execution_count": 3,
     "metadata": {},
     "output_type": "execute_result"
    },
    {
     "data": {
      "image/png": "[encoded data removed]",
      "text/plain": [
       "<Figure size 432x288 with 1 Axes>"
      ]
     },
     "metadata": {
      "needs_background": "light"
     },
     "output_type": "display_data"
    }
   ],
   "source": [
    "# Defining some prior odds. Based on priors of 0.5 for values outside of 0.2-0.3 and priors of 0.0005 for vales between 0.2-0.3 \n",
    "prior_odds = np.zeros_like(alt_hypotheses)\n",
    "\n",
    "for i in range(prior_odds.shape[0]):\n",
    "    if alt_hypotheses[i] >= 0.2 and alt_hypotheses[i] <= 0.3:\n",
    "        prior_odds[i] = 1/1000\n",
    "    else:\n",
    "        prior_odds[i] = 1\n",
    "\n",
    "# Plotting priors\n",
    "plt.plot(alt_hypotheses, prior_odds)\n",
    "plt.title('Prior odds of alternative hypotheses for p, against p=.5')\n",
    "plt.xlabel('Hypothesis for p')\n",
    "plt.ylabel('Prior odds')"
   ]
  },
  {
   "cell_type": "code",
   "execution_count": 4,
   "metadata": {},
   "outputs": [
    {
     "data": {
      "text/plain": [
       "Text(0, 0.5, 'Posterior odds')"
      ]
     },
     "execution_count": 4,
     "metadata": {},
     "output_type": "execute_result"
    },
    {
     "data": {
      "image/png": "[encoded data removed]",
      "text/plain": [
       "<Figure size 432x288 with 1 Axes>"
      ]
     },
     "metadata": {
      "needs_background": "light"
     },
     "output_type": "display_data"
    }
   ],
   "source": [
    "# Calculating posterior odds\n",
    "post_odds = prior_odds * bfs\n",
    "\n",
    "# Plotting posterior odds\n",
    "plt.plot(alt_hypotheses, post_odds)\n",
    "plt.title('Posterior odds of alternative hypotheses for p, against p=.5')\n",
    "plt.xlabel('Hypothesis for p')\n",
    "plt.ylabel('Posterior odds')"
   ]
  },
  {
   "cell_type": "code",
   "execution_count": 5,
   "metadata": {
    "scrolled": true
   },
   "outputs": [
    {
     "data": {
      "text/plain": [
       "Text(0, 0.5, 'Probability')"
      ]
     },
     "execution_count": 5,
     "metadata": {},
     "output_type": "execute_result"
    },
    {
     "data": {
      "image/png": "[encoded data removed]",
      "text/plain": [
       "<Figure size 432x288 with 1 Axes>"
      ]
     },
     "metadata": {
      "needs_background": "light"
     },
     "output_type": "display_data"
    }
   ],
   "source": [
    "# Establishing a probability distribution by normalizing\n",
    "norm_post_odds = post_odds / post_odds.sum()\n",
    "\n",
    "# Plotting probability distribution of true success rate p\n",
    "plt.plot(alt_hypotheses, norm_post_odds)\n",
    "plt.title('Normalized posterior odds of alternative hypotheses for p, against p=.5')\n",
    "plt.xlabel('Hypothesis for p')\n",
    "plt.ylabel('Probability')"
   ]
  },
  {
   "cell_type": "code",
   "execution_count": 6,
   "metadata": {},
   "outputs": [
    {
     "name": "stdout",
     "output_type": "stream",
     "text": [
      "0.19\n"
     ]
    }
   ],
   "source": [
    "# Finding most likely estimate of true success rate p\n",
    "p_max = alt_hypotheses[np.argmax(norm_post_odds)]\n",
    "print(p_max)"
   ]
  },
  {
   "cell_type": "markdown",
   "metadata": {},
   "source": [
    "#### Q1: Repeating the calculations with the assumption of H<sub>0</sub>: <i>p</i>=0.24. Will it alter the results?"
   ]
  },
  {
   "cell_type": "code",
   "execution_count": 7,
   "metadata": {
    "scrolled": true
   },
   "outputs": [
    {
     "data": {
      "image/png": "[encoded data removed]",
      "text/plain": [
       "<Figure size 432x288 with 1 Axes>"
      ]
     },
     "metadata": {
      "needs_background": "light"
     },
     "output_type": "display_data"
    }
   ],
   "source": [
    "h_naught_q1 = 0.24\n",
    "bfs_q1 = bayes_factor(alt_hypotheses, h_naught_q1, alpha, beta)\n",
    "\n",
    "# Plotting Bayes factors\n",
    "plt.plot(alt_hypotheses,bfs_q1)\n",
    "plt.title('Bayes factors for alternative hypotheses for p, vs p=.24')\n",
    "plt.xlabel('Hypothesis for p')\n",
    "plt.ylabel('Bayes factor')\n",
    "plt.show()"
   ]
  },
  {
   "cell_type": "markdown",
   "metadata": {},
   "source": [
    "<b>Changing H<sub>0</sub> changes the magnitude of the Bayes factor, but not the shape of the distribution. So, it is not expected to change the most likely estimate. Let's verify.</b>"
   ]
  },
  {
   "cell_type": "code",
   "execution_count": 8,
   "metadata": {
    "scrolled": true
   },
   "outputs": [
    {
     "name": "stdout",
     "output_type": "stream",
     "text": [
      "0.19\n"
     ]
    },
    {
     "data": {
      "image/png": "[encoded data removed]",
      "text/plain": [
       "<Figure size 432x288 with 1 Axes>"
      ]
     },
     "metadata": {
      "needs_background": "light"
     },
     "output_type": "display_data"
    }
   ],
   "source": [
    "# Prior odds are the sane. Calculating new posterior odds\n",
    "post_odds_q1 = prior_odds * bfs_q1\n",
    "\n",
    "# Establishing the new probability distribution by normalizing\n",
    "norm_post_odds_q1 = post_odds_q1 / post_odds_q1.sum()\n",
    "\n",
    "# Plotting new probability distribution of true success rate p\n",
    "plt.plot(alt_hypotheses, norm_post_odds_q1)\n",
    "plt.title('Normalized posterior odds of alternative hypotheses for p, against p=.0.24')\n",
    "plt.xlabel('Hypothesis for p')\n",
    "plt.ylabel('Probability')\n",
    "\n",
    "# Finding most likely estimate for p\n",
    "p_max_q1 = alt_hypotheses[np.argmax(norm_post_odds_q1)]\n",
    "print(p_max_q1)"
   ]
  },
  {
   "cell_type": "markdown",
   "metadata": {},
   "source": [
    "<b>Indeed, the most likely estimate of the success rate is still <i>p</i>=0.19, and it's probabibility is still around 22%. This is due to the normalisation step.</b>"
   ]
  },
  {
   "cell_type": "markdown",
   "metadata": {},
   "source": [
    "#### Q2: Change the priors to that each probability is 1.05x as likely as the previous"
   ]
  },
  {
   "cell_type": "code",
   "execution_count": 9,
   "metadata": {},
   "outputs": [
    {
     "data": {
      "text/plain": [
       "Text(0, 0.5, 'Prior odds')"
      ]
     },
     "execution_count": 9,
     "metadata": {},
     "output_type": "execute_result"
    },
    {
     "data": {
      "image/png": "[encoded data removed]",
      "text/plain": [
       "<Figure size 432x288 with 1 Axes>"
      ]
     },
     "metadata": {
      "needs_background": "light"
     },
     "output_type": "display_data"
    }
   ],
   "source": [
    "prior_odds_q2 = [1.05**i for i in range(prior_odds.shape[0])]\n",
    "prior_odds_q2[:5]\n",
    "\n",
    "# Plotting new priors\n",
    "plt.plot(alt_hypotheses, prior_odds_q2)\n",
    "plt.title('Prior odds of alternative hypotheses for p, increasing exponentially')\n",
    "plt.xlabel('Hypothesis for p')\n",
    "plt.ylabel('Prior odds')"
   ]
  },
  {
   "cell_type": "code",
   "execution_count": 10,
   "metadata": {},
   "outputs": [
    {
     "name": "stdout",
     "output_type": "stream",
     "text": [
      "0.25\n"
     ]
    },
    {
     "data": {
      "image/png": "[encoded data removed]",
      "text/plain": [
       "<Figure size 432x288 with 1 Axes>"
      ]
     },
     "metadata": {
      "needs_background": "light"
     },
     "output_type": "display_data"
    }
   ],
   "source": [
    "# Calculating new posterior odds\n",
    "post_odds_q2 = prior_odds_q2 * bfs\n",
    "\n",
    "# Establishing the new probability distribution by normalizing\n",
    "norm_post_odds_q2 = post_odds_q2 / post_odds_q2.sum()\n",
    "\n",
    "# Plotting new probability distribution of true success rate p\n",
    "plt.plot(alt_hypotheses, norm_post_odds_q2)\n",
    "plt.title('Normalized posterior odds of alternative hypotheses for p, against p=.0.24')\n",
    "plt.xlabel('Hypothesis for p')\n",
    "plt.ylabel('Probability')\n",
    "\n",
    "# Finding most likely estimate for p\n",
    "p_max_q2 = alt_hypotheses[np.argmax(norm_post_odds_q2)]\n",
    "print(p_max_q2)"
   ]
  },
  {
   "cell_type": "markdown",
   "metadata": {},
   "source": [
    "<b>This does shift the distribution slightly to the right as seen by the new most likely estimate being <i>p</i>=0.25. However, tjhe probabilities for values beyond <i>p</i>=0.4 remains very low, because their Bayes factor is very low.</b>"
   ]
  }
 ],
 "metadata": {
  "kernelspec": {
   "display_name": "Python 3",
   "language": "python",
   "name": "python3"
  },
  "language_info": {
   "codemirror_mode": {
    "name": "ipython",
    "version": 3
   },
   "file_extension": ".py",
   "mimetype": "text/x-python",
   "name": "python",
   "nbconvert_exporter": "python",
   "pygments_lexer": "ipython3",
   "version": "3.7.6"
  }
 },
 "nbformat": 4,
 "nbformat_minor": 2
}
